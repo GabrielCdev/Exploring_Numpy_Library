{
  "nbformat": 4,
  "nbformat_minor": 0,
  "metadata": {
    "colab": {
      "name": "Respostas Exercícios Numpy - Gabriel Calheiros.ipynb",
      "provenance": [],
      "collapsed_sections": [],
      "include_colab_link": true
    },
    "kernelspec": {
      "name": "python3",
      "display_name": "Python 3"
    }
  },
  "cells": [
    {
      "cell_type": "markdown",
      "metadata": {
        "id": "view-in-github",
        "colab_type": "text"
      },
      "source": [
        "<a href=\"https://colab.research.google.com/github/GabrielCdev/Exploring_Numpy_Library/blob/main/Explorando_Numpy.ipynb\" target=\"_parent\"><img src=\"https://colab.research.google.com/assets/colab-badge.svg\" alt=\"Open In Colab\"/></a>"
      ]
    },
    {
      "cell_type": "markdown",
      "metadata": {
        "id": "iywq-R4pxEnp"
      },
      "source": [
        "#Exercícios Numpy\n"
      ]
    },
    {
      "cell_type": "markdown",
      "metadata": {
        "id": "aErQL-LLxuEl"
      },
      "source": [
        "1 - Importe a biblioteca numpy com o alias \"np\""
      ]
    },
    {
      "cell_type": "code",
      "metadata": {
        "id": "BMYOQDFi1XgR"
      },
      "source": [
        "import numpy as np"
      ],
      "execution_count": null,
      "outputs": []
    },
    {
      "cell_type": "markdown",
      "metadata": {
        "id": "BgXpGrIfxIrd"
      },
      "source": [
        "2 - Crie um array qualquer e informe o tamanho deste vetor em memória."
      ]
    },
    {
      "cell_type": "code",
      "source": [
        "x = np.arange(12)\n",
        "\n",
        "print(\"{} bytes\".format(x.size))\n",
        "print(\"{} bytes\".format(x.itemsize))\n",
        "\n",
        "print(\"O tamanho do vetor em memória é: {} bytes\".format(x.size * x.itemsize))"
      ],
      "metadata": {
        "colab": {
          "base_uri": "https://localhost:8080/"
        },
        "id": "-rTn6QuoCTnq",
        "outputId": "4d96a8a1-8b44-47d4-afd1-d823a54c9392"
      },
      "execution_count": null,
      "outputs": [
        {
          "output_type": "stream",
          "name": "stdout",
          "text": [
            "12 bytes\n",
            "8 bytes\n",
            "O tamanho do vetor em memória é: 96 bytes\n"
          ]
        }
      ]
    },
    {
      "cell_type": "markdown",
      "metadata": {
        "id": "6EqpIbdXx7t4"
      },
      "source": [
        "3 - Reduza o tamanho do array anterior em memória sem alterar ou excluir nenhum dado e exiba o novo tamanho do array."
      ]
    },
    {
      "cell_type": "code",
      "source": [
        "type1 = x.dtype.name\n",
        "print(type1)\n",
        "\n",
        "x.astype(np.int32)"
      ],
      "metadata": {
        "colab": {
          "base_uri": "https://localhost:8080/"
        },
        "id": "h-WCj6WWDy8k",
        "outputId": "b3a7c3e0-f9a9-4d50-a5db-a4a73fc28c54"
      },
      "execution_count": null,
      "outputs": [
        {
          "output_type": "stream",
          "name": "stdout",
          "text": [
            "int64\n"
          ]
        },
        {
          "output_type": "execute_result",
          "data": {
            "text/plain": [
              "array([ 0,  1,  2,  3,  4,  5,  6,  7,  8,  9, 10, 11], dtype=int32)"
            ]
          },
          "metadata": {},
          "execution_count": 3
        }
      ]
    },
    {
      "cell_type": "markdown",
      "metadata": {
        "id": "oDUkaPs5xT32"
      },
      "source": [
        "4 - Crie um vetor com valores de 10 a 49"
      ]
    },
    {
      "cell_type": "code",
      "source": [
        "y = np.arange(10, 50)\n",
        "\n",
        "y"
      ],
      "metadata": {
        "colab": {
          "base_uri": "https://localhost:8080/"
        },
        "id": "d8AdrV7mD1eT",
        "outputId": "79522d94-d2eb-410b-f14d-9451699c702f"
      },
      "execution_count": null,
      "outputs": [
        {
          "output_type": "execute_result",
          "data": {
            "text/plain": [
              "array([10, 11, 12, 13, 14, 15, 16, 17, 18, 19, 20, 21, 22, 23, 24, 25, 26,\n",
              "       27, 28, 29, 30, 31, 32, 33, 34, 35, 36, 37, 38, 39, 40, 41, 42, 43,\n",
              "       44, 45, 46, 47, 48, 49])"
            ]
          },
          "metadata": {},
          "execution_count": 4
        }
      ]
    },
    {
      "cell_type": "markdown",
      "metadata": {
        "id": "Tg6QYeiVyhIx"
      },
      "source": [
        "5 - Inverta o vetor anterior"
      ]
    },
    {
      "cell_type": "code",
      "source": [
        "np.flip(y)\n",
        "#y[::-1]"
      ],
      "metadata": {
        "colab": {
          "base_uri": "https://localhost:8080/"
        },
        "id": "SQdknnI9FwzJ",
        "outputId": "3316ef78-328f-478f-8312-4cf6fa4cacf7"
      },
      "execution_count": null,
      "outputs": [
        {
          "output_type": "execute_result",
          "data": {
            "text/plain": [
              "array([49, 48, 47, 46, 45, 44, 43, 42, 41, 40, 39, 38, 37, 36, 35, 34, 33,\n",
              "       32, 31, 30, 29, 28, 27, 26, 25, 24, 23, 22, 21, 20, 19, 18, 17, 16,\n",
              "       15, 14, 13, 12, 11, 10])"
            ]
          },
          "metadata": {},
          "execution_count": 5
        }
      ]
    },
    {
      "cell_type": "markdown",
      "metadata": {
        "id": "4tUyjQmey6OY"
      },
      "source": [
        "6- Crie uma matriz 3x3 com valores que variam de 0 a 8"
      ]
    },
    {
      "cell_type": "code",
      "source": [
        "np.arange(9).reshape(3,3)"
      ],
      "metadata": {
        "colab": {
          "base_uri": "https://localhost:8080/"
        },
        "id": "2CnAxCrmHUQp",
        "outputId": "8c9cee72-57ba-46ef-8abe-e90f3eeb1d85"
      },
      "execution_count": null,
      "outputs": [
        {
          "output_type": "execute_result",
          "data": {
            "text/plain": [
              "array([[0, 1, 2],\n",
              "       [3, 4, 5],\n",
              "       [6, 7, 8]])"
            ]
          },
          "metadata": {},
          "execution_count": 6
        }
      ]
    },
    {
      "cell_type": "markdown",
      "metadata": {
        "id": "M4TmxfoKzJ5D"
      },
      "source": [
        "7- Encontre índices de elementos diferentes de zero de [1,2,0,0,4,0] (dica: tem função pronta para isso)"
      ]
    },
    {
      "cell_type": "code",
      "source": [
        "array = np.array([1,2,0,0,4,0])\n",
        "\n",
        "print(\"Os índices dos elementos diferentes de 0 são {}\".format(np.nonzero(array)))"
      ],
      "metadata": {
        "colab": {
          "base_uri": "https://localhost:8080/"
        },
        "id": "Xen_4Ao7LVbE",
        "outputId": "5f33049e-b864-4c85-a131-42ac3ea6afec"
      },
      "execution_count": null,
      "outputs": [
        {
          "output_type": "stream",
          "name": "stdout",
          "text": [
            "Os índices dos elementos diferentes de 0 são (array([0, 1, 4]),)\n"
          ]
        }
      ]
    },
    {
      "cell_type": "markdown",
      "metadata": {
        "id": "UlaIfAnl1MCt"
      },
      "source": [
        "8 - Crie uma matriz 10x10 com valores aleatórios e encontre os valores mínimo, máximo, média, moda e desvio padrão."
      ]
    },
    {
      "cell_type": "code",
      "source": [
        "from scipy import stats\n",
        "\n",
        "np.random.seed()\n",
        "z = np.random.random(size=(10,10))\n",
        "print(z)\n",
        "\n",
        "print(\"\\nValor mínimo: {}\".format(z.min()))\n",
        "print(\"Valor máximo: {}\".format(z.max()))\n",
        "print(\"Média: {}\".format(z.mean()))\n",
        "print(\"Moda: {}\".format(stats.mode(z)))\n",
        "print(\"Desvio Padrão: {}\".format(z.std()))"
      ],
      "metadata": {
        "colab": {
          "base_uri": "https://localhost:8080/"
        },
        "id": "zCblZOOQHwvq",
        "outputId": "817b137f-7c4f-471b-ea81-82804f21a193"
      },
      "execution_count": null,
      "outputs": [
        {
          "output_type": "stream",
          "name": "stdout",
          "text": [
            "[[0.72265989 0.03862061 0.87429138 0.1460318  0.30905226 0.02808409\n",
            "  0.75206948 0.11760809 0.56100264 0.57971928]\n",
            " [0.84881116 0.88580004 0.81430686 0.53008678 0.17873872 0.17268118\n",
            "  0.62314713 0.11238513 0.79048202 0.43385871]\n",
            " [0.31677048 0.61366292 0.83645938 0.33251646 0.20704508 0.13516274\n",
            "  0.09456715 0.41303206 0.45834517 0.26952357]\n",
            " [0.18528601 0.29938921 0.50577207 0.78959149 0.50696106 0.74508831\n",
            "  0.00243633 0.75346558 0.89111179 0.7003428 ]\n",
            " [0.2349862  0.68375464 0.4378137  0.31847014 0.95332812 0.09426163\n",
            "  0.16041897 0.78254564 0.05916232 0.86558989]\n",
            " [0.00324755 0.02529642 0.92237356 0.31266436 0.58943087 0.70797944\n",
            "  0.72946545 0.3634564  0.81275812 0.77944967]\n",
            " [0.38979454 0.16632333 0.09373213 0.21888996 0.85176434 0.08215706\n",
            "  0.77287645 0.08707153 0.6978707  0.09950879]\n",
            " [0.79495121 0.71722193 0.23251378 0.77542586 0.79566737 0.46182316\n",
            "  0.17185819 0.68994605 0.34326144 0.67340745]\n",
            " [0.00323924 0.59482728 0.60350308 0.72661853 0.43573887 0.44674535\n",
            "  0.44974857 0.16370756 0.86736466 0.64255882]\n",
            " [0.06325131 0.48684373 0.4471133  0.93439649 0.14589999 0.08123076\n",
            "  0.05582086 0.86586417 0.90926841 0.59232242]]\n",
            "\n",
            "Valor mínimo: 0.002436330922754748\n",
            "Valor máximo: 0.9533281205078278\n",
            "Média: 0.47044548683627957\n",
            "Moda: ModeResult(mode=array([[0.00323924, 0.02529642, 0.09373213, 0.1460318 , 0.14589999,\n",
            "        0.02808409, 0.00243633, 0.08707153, 0.05916232, 0.09950879]]), count=array([[1, 1, 1, 1, 1, 1, 1, 1, 1, 1]]))\n",
            "Desvio Padrão: 0.2942680928652273\n"
          ]
        }
      ]
    },
    {
      "cell_type": "markdown",
      "metadata": {
        "id": "X8AHaSC53LJa"
      },
      "source": [
        "9 - Dada uma matriz 1D, multiplique por 10 todos os elementos que estão entre 3 e 8."
      ]
    },
    {
      "cell_type": "code",
      "source": [
        "a = np.arange(11)\n",
        "a[(a > 3) & (a < 8)] *= 10\n",
        "\n",
        "a"
      ],
      "metadata": {
        "colab": {
          "base_uri": "https://localhost:8080/"
        },
        "id": "0TFFDGjPNJrB",
        "outputId": "c8e83f64-8745-42bb-9886-ecf00aab4efd"
      },
      "execution_count": null,
      "outputs": [
        {
          "output_type": "execute_result",
          "data": {
            "text/plain": [
              "array([ 0,  1,  2,  3, 40, 50, 60, 70,  8,  9, 10])"
            ]
          },
          "metadata": {},
          "execution_count": 9
        }
      ]
    },
    {
      "cell_type": "markdown",
      "metadata": {
        "id": "9bhK8QwQ9GhN"
      },
      "source": [
        "10 - Crie uma matriz 5x5 com valores de linha variando de 0 a 4"
      ]
    },
    {
      "cell_type": "code",
      "source": [
        "np.random.seed()\n",
        "np.random.randint(0,5, size=(5,5))"
      ],
      "metadata": {
        "colab": {
          "base_uri": "https://localhost:8080/"
        },
        "id": "hLvGvl_uN3_q",
        "outputId": "f487877d-4c0a-4c2e-9018-027f35090377"
      },
      "execution_count": null,
      "outputs": [
        {
          "output_type": "execute_result",
          "data": {
            "text/plain": [
              "array([[3, 3, 1, 2, 0],\n",
              "       [3, 3, 3, 2, 0],\n",
              "       [1, 0, 3, 3, 4],\n",
              "       [2, 0, 1, 0, 0],\n",
              "       [1, 0, 1, 3, 0]])"
            ]
          },
          "metadata": {},
          "execution_count": 10
        }
      ]
    },
    {
      "cell_type": "markdown",
      "metadata": {
        "id": "D56KlRkr9N3h"
      },
      "source": [
        "11 - Crie um vetor de inteiros aleatório de tamanho 10 e ordene-o"
      ]
    },
    {
      "cell_type": "code",
      "source": [
        "np.random.seed(2)\n",
        "p = np.random.random(10)\n",
        "print(p)\n",
        "\n",
        "np.sort(p)"
      ],
      "metadata": {
        "colab": {
          "base_uri": "https://localhost:8080/"
        },
        "id": "r8ql02RlOzMR",
        "outputId": "5068ecdd-f116-40f5-a1d6-aa4040053be0"
      },
      "execution_count": null,
      "outputs": [
        {
          "output_type": "stream",
          "name": "stdout",
          "text": [
            "[0.4359949  0.02592623 0.54966248 0.43532239 0.4203678  0.33033482\n",
            " 0.20464863 0.61927097 0.29965467 0.26682728]\n"
          ]
        },
        {
          "output_type": "execute_result",
          "data": {
            "text/plain": [
              "array([0.02592623, 0.20464863, 0.26682728, 0.29965467, 0.33033482,\n",
              "       0.4203678 , 0.43532239, 0.4359949 , 0.54966248, 0.61927097])"
            ]
          },
          "metadata": {},
          "execution_count": 11
        }
      ]
    },
    {
      "cell_type": "markdown",
      "metadata": {
        "id": "3eNkXerL9eA4"
      },
      "source": [
        "12 - Crie o mesmo vetor da questão anterior (com o mesmo seed) e exiba a ordem de seus índices (função argsort)"
      ]
    },
    {
      "cell_type": "code",
      "source": [
        "np.argsort(p)"
      ],
      "metadata": {
        "colab": {
          "base_uri": "https://localhost:8080/"
        },
        "id": "oyKjhgPVtED3",
        "outputId": "71e0e528-3aad-4407-ba64-43e0044be97b"
      },
      "execution_count": null,
      "outputs": [
        {
          "output_type": "execute_result",
          "data": {
            "text/plain": [
              "array([1, 6, 9, 8, 5, 4, 3, 0, 2, 7])"
            ]
          },
          "metadata": {},
          "execution_count": 12
        }
      ]
    },
    {
      "cell_type": "markdown",
      "metadata": {
        "id": "JYEzKYQa--M_"
      },
      "source": [
        "13 - Crie um vetor aleatório de tamanho 10 e substitua o valor máximo por 0"
      ]
    },
    {
      "cell_type": "code",
      "source": [
        "np.random.seed()\n",
        "\n",
        "b = np.random.randint(30, size=10)\n",
        "print(b)\n",
        "print(np.max(b))"
      ],
      "metadata": {
        "colab": {
          "base_uri": "https://localhost:8080/"
        },
        "id": "L78QoW3hv8pf",
        "outputId": "af37bae5-b3aa-47d7-f2bc-e9e23f352544"
      },
      "execution_count": null,
      "outputs": [
        {
          "output_type": "stream",
          "name": "stdout",
          "text": [
            "[11 14 23 14 13  4 25 14 29  1]\n",
            "29\n"
          ]
        }
      ]
    },
    {
      "cell_type": "code",
      "source": [
        "b[np.argmax(b)] = 0\n",
        "b"
      ],
      "metadata": {
        "colab": {
          "base_uri": "https://localhost:8080/"
        },
        "id": "t9FuiPwlCCin",
        "outputId": "5becb877-b190-4a91-b11b-fbfff824fa75"
      },
      "execution_count": null,
      "outputs": [
        {
          "output_type": "execute_result",
          "data": {
            "text/plain": [
              "array([11, 14, 23, 14, 13,  4, 25, 14,  0,  1])"
            ]
          },
          "metadata": {},
          "execution_count": 14
        }
      ]
    },
    {
      "cell_type": "markdown",
      "metadata": {
        "id": "1iDJBx-o_ger"
      },
      "source": [
        "14 - Crie uma matriz 3x3 e exiba o índice e o valor de cada posição. (dica: consulte as funções np.ndenumerate e np.ndindex)"
      ]
    },
    {
      "cell_type": "code",
      "source": [
        "np.random.seed()\n",
        "\n",
        "matrix = np.random.randint(15, size=(3,3))\n",
        "print(matrix)"
      ],
      "metadata": {
        "colab": {
          "base_uri": "https://localhost:8080/"
        },
        "id": "fQupj9jGHyzY",
        "outputId": "ec79d3d2-ccaa-43e9-a0a0-28118989a0e0"
      },
      "execution_count": null,
      "outputs": [
        {
          "output_type": "stream",
          "name": "stdout",
          "text": [
            "[[2 0 5]\n",
            " [2 2 0]\n",
            " [2 1 4]]\n"
          ]
        }
      ]
    },
    {
      "cell_type": "code",
      "source": [
        "for index, x in np.ndenumerate(matrix):\n",
        "  print(index, x)"
      ],
      "metadata": {
        "colab": {
          "base_uri": "https://localhost:8080/"
        },
        "id": "hWPT2q91KSNA",
        "outputId": "0628c24d-02d2-4050-e678-86550a2e73b0"
      },
      "execution_count": null,
      "outputs": [
        {
          "output_type": "stream",
          "name": "stdout",
          "text": [
            "(0, 0) 2\n",
            "(0, 1) 0\n",
            "(0, 2) 5\n",
            "(1, 0) 2\n",
            "(1, 1) 2\n",
            "(1, 2) 0\n",
            "(2, 0) 2\n",
            "(2, 1) 1\n",
            "(2, 2) 4\n"
          ]
        }
      ]
    },
    {
      "cell_type": "code",
      "source": [
        "for index in np.ndindex(matrix.shape):\n",
        "  print(index, matrix[index])"
      ],
      "metadata": {
        "colab": {
          "base_uri": "https://localhost:8080/"
        },
        "id": "a5SEnxaEMTPw",
        "outputId": "ae3cdd6c-7248-46c0-ace5-f1a8970e16bc"
      },
      "execution_count": null,
      "outputs": [
        {
          "output_type": "stream",
          "name": "stdout",
          "text": [
            "(0, 0) 2\n",
            "(0, 1) 0\n",
            "(0, 2) 5\n",
            "(1, 0) 2\n",
            "(1, 1) 2\n",
            "(1, 2) 0\n",
            "(2, 0) 2\n",
            "(2, 1) 1\n",
            "(2, 2) 4\n"
          ]
        }
      ]
    },
    {
      "cell_type": "markdown",
      "metadata": {
        "id": "28Ntqd9xBG3N"
      },
      "source": [
        "15 - Como ordenar uma matriz pela enésima coluna?"
      ]
    },
    {
      "cell_type": "code",
      "source": [
        "np.random.seed()\n",
        "\n",
        "to_order = np.random.randint(25, size=(5,5))\n",
        "print(to_order)"
      ],
      "metadata": {
        "colab": {
          "base_uri": "https://localhost:8080/"
        },
        "id": "YINveP5QVDar",
        "outputId": "d780dc2a-ad7c-4b4a-8735-a65a9bd0ac4e"
      },
      "execution_count": null,
      "outputs": [
        {
          "output_type": "stream",
          "name": "stdout",
          "text": [
            "[[21 20 23 15 10]\n",
            " [17 10 13  2  4]\n",
            " [14  3 14  9  8]\n",
            " [14  4 13 11 18]\n",
            " [24  0 22 11 15]]\n"
          ]
        }
      ]
    },
    {
      "cell_type": "code",
      "source": [
        "to_order[to_order[:, 3].argsort()]"
      ],
      "metadata": {
        "colab": {
          "base_uri": "https://localhost:8080/"
        },
        "id": "EqoJvP1LWWS1",
        "outputId": "df8d5e92-3640-4a55-93f5-daf7e1b2551d"
      },
      "execution_count": null,
      "outputs": [
        {
          "output_type": "execute_result",
          "data": {
            "text/plain": [
              "array([[17, 10, 13,  2,  4],\n",
              "       [14,  3, 14,  9,  8],\n",
              "       [14,  4, 13, 11, 18],\n",
              "       [24,  0, 22, 11, 15],\n",
              "       [21, 20, 23, 15, 10]])"
            ]
          },
          "metadata": {},
          "execution_count": 19
        }
      ]
    }
  ]
}